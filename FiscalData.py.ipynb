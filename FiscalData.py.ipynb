{
 "cells": [
  {
   "cell_type": "code",
   "execution_count": 1,
   "id": "a7e17a1d-cab9-439a-b569-3da33b275327",
   "metadata": {},
   "outputs": [
    {
     "name": "stdout",
     "output_type": "stream",
     "text": [
      "Afghanistan Afghani 78400.0\n"
     ]
    }
   ],
   "source": [
    "#FiscalData\n",
    "\n",
    "import pandas as pd\n",
    "import requests\n",
    "\n",
    "BASE = \"http://127.0.0.1:5000/\"\n",
    "APP_VERSION = \"v1/\"\n",
    "\n",
    "def fetch_data_from_api(api_url):\n",
    "     try:\n",
    "         response = requests.get(api_url)\n",
    "         response.raise_for_status() # Raise an exception for 4xx or 5xx status codes\n",
    "         data = response.json()\n",
    "         return data\n",
    "     except requests.exceptions.RequestException as e:\n",
    "         print(f\"Error fetching data from API: {e}\")\n",
    "         return None\n",
    "api_url = \"https://api.fiscaldata.treasury.gov/services/api/fiscal_service/v1/accounting/od/rates_of_exchange\"\n",
    "data = fetch_data_from_api(api_url)\n",
    "\n",
    "if data:\n",
    "    df = pd.DataFrame(data['data'])\n",
    "\n",
    "    # Selecting only required columns\n",
    "    df = df[['country', 'currency', 'exchange_rate']]\n",
    "\n",
    "    # print all the rows\n",
    "    # for index, row in df.iterrows():\n",
    "    #     print(f\"{row['country']} {row['currency']} {row['exchange_rate']}\")\n",
    "    \n",
    "    # print specific row\n",
    "    print(f\"{df.loc[0, 'country']} {df.loc[0, 'currency']} {df.loc[0, 'exchange_rate']}\")\n",
    "else:\n",
    "    print(\"Failed to fetch data from API.\")"
   ]
  },
  {
   "cell_type": "code",
   "execution_count": null,
   "id": "58a81501-368f-4508-88d2-9bb05a5c4e84",
   "metadata": {},
   "outputs": [],
   "source": []
  }
 ],
 "metadata": {
  "kernelspec": {
   "display_name": "Python 3 (ipykernel)",
   "language": "python",
   "name": "python3"
  },
  "language_info": {
   "codemirror_mode": {
    "name": "ipython",
    "version": 3
   },
   "file_extension": ".py",
   "mimetype": "text/x-python",
   "name": "python",
   "nbconvert_exporter": "python",
   "pygments_lexer": "ipython3",
   "version": "3.11.7"
  }
 },
 "nbformat": 4,
 "nbformat_minor": 5
}
