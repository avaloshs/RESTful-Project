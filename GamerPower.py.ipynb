{
 "cells": [
  {
   "cell_type": "code",
   "execution_count": 1,
   "id": "01020ce1-bbd3-4069-a224-3e9e841288e3",
   "metadata": {},
   "outputs": [
    {
     "name": "stdout",
     "output_type": "stream",
     "text": [
      "ReX (IndieGala) Giveaway $13.99\n"
     ]
    }
   ],
   "source": [
    "#GamerPower\n",
    "\n",
    "import pandas as pd\n",
    "import requests\n",
    "\n",
    "BASE = \"http://127.0.0.1:5000/\"\n",
    "APP_VERSION = \"v1/\"\n",
    "\n",
    "def fetch_data_from_api(api_url):\n",
    "     try:\n",
    "         response = requests.get(api_url)\n",
    "         response.raise_for_status() # Raise an exception for 4xx or 5xx status codes\n",
    "         data = response.json()\n",
    "         return data\n",
    "     except requests.exceptions.RequestException as e:\n",
    "         print(f\"Error fetching data from API: {e}\")\n",
    "         return None\n",
    "api_url = \"https://gamerpower.com/api/giveaways\"\n",
    "data = fetch_data_from_api(api_url)\n",
    "if data:\n",
    "    df = pd.DataFrame(data)\n",
    "\n",
    "    # Selecting only required columns\n",
    "    df = df[['title', 'worth']]\n",
    "\n",
    "    # print(df)\n",
    "    print(f\"{df.loc[0, 'title']} {df.loc[0, 'worth']}\")\n",
    "else:\n",
    "    print(\"Failed to fetch data from API.\")"
   ]
  },
  {
   "cell_type": "code",
   "execution_count": null,
   "id": "1b6b92ba-164d-48c6-a2fe-b9ca2f0845d4",
   "metadata": {},
   "outputs": [],
   "source": []
  }
 ],
 "metadata": {
  "kernelspec": {
   "display_name": "Python 3 (ipykernel)",
   "language": "python",
   "name": "python3"
  },
  "language_info": {
   "codemirror_mode": {
    "name": "ipython",
    "version": 3
   },
   "file_extension": ".py",
   "mimetype": "text/x-python",
   "name": "python",
   "nbconvert_exporter": "python",
   "pygments_lexer": "ipython3",
   "version": "3.11.7"
  }
 },
 "nbformat": 4,
 "nbformat_minor": 5
}
