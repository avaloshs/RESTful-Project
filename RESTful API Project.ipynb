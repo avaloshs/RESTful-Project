{
 "cells": [
  {
   "cell_type": "markdown",
   "id": "850bbf3b-6bf8-4f71-a8c5-20f4741fda25",
   "metadata": {},
   "source": [
    "# Driver Application Example\n",
    "# Choose three Publis APIs RESTful Resources that are cohesive\n",
    "from flask import Flask, jsonify\n",
    "import requests\n",
    "\n",
    "app = Flask(__name__)\n",
    "\n",
    "# API endpoints of existing APIs\n",
    "API_URL_1 = 'https://api-football-standings.azharimm.site/leagues'\n",
    "API_URL_2 = 'https://api.example.com/data2'\n",
    "API_URL_3 = 'https://api.example.com/data3'\n",
    "\n",
    "@app.route('/aggregate-data', methods=['GET'])\n",
    "def aggregate_data():\n",
    "    try:\n",
    "# Make requests to the existing APIs\n",
    "        response1 = requests.get(API_URL_1)\n",
    "        response2 = requests.get(API_URL_2)\n",
    "        response3 = requests.get(API_URL_3)\n",
    "# Extract relevant data from responses\n",
    "        data1 = response1.json()\n",
    "        data2 = response2.json()\n",
    "        data3 = response3.json()\n",
    "        \n",
    "# Aggregate the data as needed\n",
    "        aggregated_data = {\n",
    "            'data_from_api_1': data1,\n",
    "            'data_from_api_2': data2,\n",
    "            'data_from_api_3': data3\n",
    "        }\n",
    "        \n",
    "        return jsonify(aggregated_data)\n",
    "    \n",
    "    except Exception as e:\n",
    "        return jsonify({'error': str(e)}), 500\n",
    "\n",
    "if __name__ == '__main__':\n",
    "    app.run(debug=True)\n",
    "\n",
    "# Post to the Custom API\n",
    "\n",
    "\n",
    "# Make requests to the Custom API\n",
    "        response4 = requests.get(API_URL_4)"
   ]
  }
 ],
 "metadata": {
  "kernelspec": {
   "display_name": "Python 3 (ipykernel)",
   "language": "python",
   "name": "python3"
  },
  "language_info": {
   "codemirror_mode": {
    "name": "ipython",
    "version": 3
   },
   "file_extension": ".py",
   "mimetype": "text/x-python",
   "name": "python",
   "nbconvert_exporter": "python",
   "pygments_lexer": "ipython3",
   "version": "3.11.7"
  }
 },
 "nbformat": 4,
 "nbformat_minor": 5
}
