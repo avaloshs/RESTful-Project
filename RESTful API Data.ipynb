{
 "cells": [
  {
   "cell_type": "code",
   "execution_count": 4,
   "id": "3bb1b60b-3e44-4b55-ae2f-f89c3d4b6898",
   "metadata": {},
   "outputs": [
    {
     "name": "stdout",
     "output_type": "stream",
     "text": [
      "{'@context': ['https://geojson.org/geojson-ld/geojson-context.jsonld', {'@version': '1.1', 'wx': 'https://api.weather.gov/ontology#', 'geo': 'http://www.opengis.net/ont/geosparql#', 'unit': 'http://codes.wmo.int/common/unit/', '@vocab': 'https://api.weather.gov/ontology#'}], 'type': 'Feature', 'geometry': {'type': 'Polygon', 'coordinates': [[[-97.137207, 39.7444372], [-97.1367549, 39.7223799], [-97.1080809, 39.7227252], [-97.10852700000001, 39.7447825], [-97.137207, 39.7444372]]]}, 'properties': {'updated': '2024-04-03T22:40:43+00:00', 'units': 'us', 'forecastGenerator': 'BaselineForecastGenerator', 'generatedAt': '2024-04-03T23:02:26+00:00', 'updateTime': '2024-04-03T22:40:43+00:00', 'validTimes': '2024-04-03T16:00:00+00:00/P7DT9H', 'elevation': {'unitCode': 'wmoUnit:m', 'value': 456.8952}, 'periods': [{'number': 1, 'name': 'Tonight', 'startTime': '2024-04-03T18:00:00-05:00', 'endTime': '2024-04-04T06:00:00-05:00', 'isDaytime': False, 'temperature': 30, 'temperatureUnit': 'F', 'temperatureTrend': None, 'probabilityOfPrecipitation': {'unitCode': 'wmoUnit:percent', 'value': None}, 'dewpoint': {'unitCode': 'wmoUnit:degC', 'value': -3.3333333333333335}, 'relativeHumidity': {'unitCode': 'wmoUnit:percent', 'value': 81}, 'windSpeed': '10 to 15 mph', 'windDirection': 'N', 'icon': 'https://api.weather.gov/icons/land/night/skc?size=medium', 'shortForecast': 'Clear', 'detailedForecast': 'Clear, with a low around 30. North wind 10 to 15 mph, with gusts as high as 25 mph.'}, {'number': 2, 'name': 'Thursday', 'startTime': '2024-04-04T06:00:00-05:00', 'endTime': '2024-04-04T18:00:00-05:00', 'isDaytime': True, 'temperature': 60, 'temperatureUnit': 'F', 'temperatureTrend': None, 'probabilityOfPrecipitation': {'unitCode': 'wmoUnit:percent', 'value': None}, 'dewpoint': {'unitCode': 'wmoUnit:degC', 'value': -2.7777777777777777}, 'relativeHumidity': {'unitCode': 'wmoUnit:percent', 'value': 85}, 'windSpeed': '10 to 15 mph', 'windDirection': 'N', 'icon': 'https://api.weather.gov/icons/land/day/skc?size=medium', 'shortForecast': 'Sunny', 'detailedForecast': 'Sunny, with a high near 60. North wind 10 to 15 mph, with gusts as high as 25 mph.'}, {'number': 3, 'name': 'Thursday Night', 'startTime': '2024-04-04T18:00:00-05:00', 'endTime': '2024-04-05T06:00:00-05:00', 'isDaytime': False, 'temperature': 30, 'temperatureUnit': 'F', 'temperatureTrend': None, 'probabilityOfPrecipitation': {'unitCode': 'wmoUnit:percent', 'value': None}, 'dewpoint': {'unitCode': 'wmoUnit:degC', 'value': -2.2222222222222223}, 'relativeHumidity': {'unitCode': 'wmoUnit:percent', 'value': 88}, 'windSpeed': '5 to 10 mph', 'windDirection': 'NE', 'icon': 'https://api.weather.gov/icons/land/night/skc?size=medium', 'shortForecast': 'Clear then Widespread Frost', 'detailedForecast': 'Widespread frost after 4am. Clear, with a low around 30. Northeast wind 5 to 10 mph.'}, {'number': 4, 'name': 'Friday', 'startTime': '2024-04-05T06:00:00-05:00', 'endTime': '2024-04-05T18:00:00-05:00', 'isDaytime': True, 'temperature': 65, 'temperatureUnit': 'F', 'temperatureTrend': None, 'probabilityOfPrecipitation': {'unitCode': 'wmoUnit:percent', 'value': None}, 'dewpoint': {'unitCode': 'wmoUnit:degC', 'value': 0.5555555555555556}, 'relativeHumidity': {'unitCode': 'wmoUnit:percent', 'value': 96}, 'windSpeed': '5 to 15 mph', 'windDirection': 'SE', 'icon': 'https://api.weather.gov/icons/land/day/sct?size=medium', 'shortForecast': 'Widespread Frost then Mostly Sunny', 'detailedForecast': 'Widespread frost before 7am. Mostly sunny, with a high near 65. Southeast wind 5 to 15 mph, with gusts as high as 20 mph.'}, {'number': 5, 'name': 'Friday Night', 'startTime': '2024-04-05T18:00:00-05:00', 'endTime': '2024-04-06T06:00:00-05:00', 'isDaytime': False, 'temperature': 42, 'temperatureUnit': 'F', 'temperatureTrend': None, 'probabilityOfPrecipitation': {'unitCode': 'wmoUnit:percent', 'value': None}, 'dewpoint': {'unitCode': 'wmoUnit:degC', 'value': 2.7777777777777777}, 'relativeHumidity': {'unitCode': 'wmoUnit:percent', 'value': 76}, 'windSpeed': '15 to 20 mph', 'windDirection': 'SE', 'icon': 'https://api.weather.gov/icons/land/night/sct?size=medium', 'shortForecast': 'Partly Cloudy', 'detailedForecast': 'Partly cloudy, with a low around 42. Southeast wind 15 to 20 mph, with gusts as high as 30 mph.'}, {'number': 6, 'name': 'Saturday', 'startTime': '2024-04-06T06:00:00-05:00', 'endTime': '2024-04-06T18:00:00-05:00', 'isDaytime': True, 'temperature': 72, 'temperatureUnit': 'F', 'temperatureTrend': None, 'probabilityOfPrecipitation': {'unitCode': 'wmoUnit:percent', 'value': 60}, 'dewpoint': {'unitCode': 'wmoUnit:degC', 'value': 8.333333333333334}, 'relativeHumidity': {'unitCode': 'wmoUnit:percent', 'value': 79}, 'windSpeed': '20 to 35 mph', 'windDirection': 'SE', 'icon': 'https://api.weather.gov/icons/land/day/wind_sct/tsra_hi,60?size=medium', 'shortForecast': 'Mostly Sunny then Showers And Thunderstorms Likely', 'detailedForecast': 'Rain showers likely between 1pm and 4pm, then showers and thunderstorms likely. Mostly sunny, with a high near 72. Southeast wind 20 to 35 mph, with gusts as high as 50 mph. Chance of precipitation is 60%.'}, {'number': 7, 'name': 'Saturday Night', 'startTime': '2024-04-06T18:00:00-05:00', 'endTime': '2024-04-07T06:00:00-05:00', 'isDaytime': False, 'temperature': 41, 'temperatureUnit': 'F', 'temperatureTrend': None, 'probabilityOfPrecipitation': {'unitCode': 'wmoUnit:percent', 'value': 80}, 'dewpoint': {'unitCode': 'wmoUnit:degC', 'value': 9.444444444444445}, 'relativeHumidity': {'unitCode': 'wmoUnit:percent', 'value': 79}, 'windSpeed': '15 to 30 mph', 'windDirection': 'S', 'icon': 'https://api.weather.gov/icons/land/night/tsra_hi,80?size=medium', 'shortForecast': 'Showers And Thunderstorms', 'detailedForecast': 'Showers and thunderstorms before 1am, then a slight chance of showers and thunderstorms. Partly cloudy, with a low around 41. South wind 15 to 30 mph, with gusts as high as 50 mph. Chance of precipitation is 80%.'}, {'number': 8, 'name': 'Sunday', 'startTime': '2024-04-07T06:00:00-05:00', 'endTime': '2024-04-07T18:00:00-05:00', 'isDaytime': True, 'temperature': 65, 'temperatureUnit': 'F', 'temperatureTrend': None, 'probabilityOfPrecipitation': {'unitCode': 'wmoUnit:percent', 'value': 20}, 'dewpoint': {'unitCode': 'wmoUnit:degC', 'value': 0.5555555555555556}, 'relativeHumidity': {'unitCode': 'wmoUnit:percent', 'value': 71}, 'windSpeed': '15 to 25 mph', 'windDirection': 'SW', 'icon': 'https://api.weather.gov/icons/land/day/tsra_hi,20/wind_sct?size=medium', 'shortForecast': 'Slight Chance Showers And Thunderstorms then Mostly Sunny', 'detailedForecast': 'A slight chance of showers and thunderstorms before 7am. Mostly sunny, with a high near 65. Southwest wind 15 to 25 mph, with gusts as high as 35 mph. Chance of precipitation is 20%.'}, {'number': 9, 'name': 'Sunday Night', 'startTime': '2024-04-07T18:00:00-05:00', 'endTime': '2024-04-08T06:00:00-05:00', 'isDaytime': False, 'temperature': 39, 'temperatureUnit': 'F', 'temperatureTrend': None, 'probabilityOfPrecipitation': {'unitCode': 'wmoUnit:percent', 'value': None}, 'dewpoint': {'unitCode': 'wmoUnit:degC', 'value': 1.1111111111111112}, 'relativeHumidity': {'unitCode': 'wmoUnit:percent', 'value': 81}, 'windSpeed': '15 to 20 mph', 'windDirection': 'W', 'icon': 'https://api.weather.gov/icons/land/night/sct?size=medium', 'shortForecast': 'Partly Cloudy', 'detailedForecast': 'Partly cloudy, with a low around 39. West wind 15 to 20 mph, with gusts as high as 35 mph.'}, {'number': 10, 'name': 'Monday', 'startTime': '2024-04-08T06:00:00-05:00', 'endTime': '2024-04-08T18:00:00-05:00', 'isDaytime': True, 'temperature': 63, 'temperatureUnit': 'F', 'temperatureTrend': None, 'probabilityOfPrecipitation': {'unitCode': 'wmoUnit:percent', 'value': None}, 'dewpoint': {'unitCode': 'wmoUnit:degC', 'value': 3.888888888888889}, 'relativeHumidity': {'unitCode': 'wmoUnit:percent', 'value': 89}, 'windSpeed': '10 to 15 mph', 'windDirection': 'NW', 'icon': 'https://api.weather.gov/icons/land/day/sct?size=medium', 'shortForecast': 'Mostly Sunny', 'detailedForecast': 'Mostly sunny, with a high near 63.'}, {'number': 11, 'name': 'Monday Night', 'startTime': '2024-04-08T18:00:00-05:00', 'endTime': '2024-04-09T06:00:00-05:00', 'isDaytime': False, 'temperature': 38, 'temperatureUnit': 'F', 'temperatureTrend': None, 'probabilityOfPrecipitation': {'unitCode': 'wmoUnit:percent', 'value': None}, 'dewpoint': {'unitCode': 'wmoUnit:degC', 'value': 3.3333333333333335}, 'relativeHumidity': {'unitCode': 'wmoUnit:percent', 'value': 92}, 'windSpeed': '10 mph', 'windDirection': 'N', 'icon': 'https://api.weather.gov/icons/land/night/sct?size=medium', 'shortForecast': 'Partly Cloudy', 'detailedForecast': 'Partly cloudy, with a low around 38.'}, {'number': 12, 'name': 'Tuesday', 'startTime': '2024-04-09T06:00:00-05:00', 'endTime': '2024-04-09T18:00:00-05:00', 'isDaytime': True, 'temperature': 63, 'temperatureUnit': 'F', 'temperatureTrend': None, 'probabilityOfPrecipitation': {'unitCode': 'wmoUnit:percent', 'value': 30}, 'dewpoint': {'unitCode': 'wmoUnit:degC', 'value': 6.111111111111111}, 'relativeHumidity': {'unitCode': 'wmoUnit:percent', 'value': 93}, 'windSpeed': '10 to 15 mph', 'windDirection': 'NE', 'icon': 'https://api.weather.gov/icons/land/day/rain_showers,20/tsra_hi,30?size=medium', 'shortForecast': 'Chance Showers And Thunderstorms', 'detailedForecast': 'A slight chance of rain showers between 7am and 1pm, then a chance of showers and thunderstorms. Partly sunny, with a high near 63. Chance of precipitation is 30%.'}, {'number': 13, 'name': 'Tuesday Night', 'startTime': '2024-04-09T18:00:00-05:00', 'endTime': '2024-04-10T06:00:00-05:00', 'isDaytime': False, 'temperature': 42, 'temperatureUnit': 'F', 'temperatureTrend': None, 'probabilityOfPrecipitation': {'unitCode': 'wmoUnit:percent', 'value': 50}, 'dewpoint': {'unitCode': 'wmoUnit:degC', 'value': 5.555555555555555}, 'relativeHumidity': {'unitCode': 'wmoUnit:percent', 'value': 91}, 'windSpeed': '15 mph', 'windDirection': 'NE', 'icon': 'https://api.weather.gov/icons/land/night/tsra_sct,40/tsra_sct,50?size=medium', 'shortForecast': 'Chance Showers And Thunderstorms', 'detailedForecast': 'A chance of showers and thunderstorms. Mostly cloudy, with a low around 42. Chance of precipitation is 50%.'}, {'number': 14, 'name': 'Wednesday', 'startTime': '2024-04-10T06:00:00-05:00', 'endTime': '2024-04-10T18:00:00-05:00', 'isDaytime': True, 'temperature': 60, 'temperatureUnit': 'F', 'temperatureTrend': None, 'probabilityOfPrecipitation': {'unitCode': 'wmoUnit:percent', 'value': 50}, 'dewpoint': {'unitCode': 'wmoUnit:degC', 'value': 6.666666666666667}, 'relativeHumidity': {'unitCode': 'wmoUnit:percent', 'value': 93}, 'windSpeed': '15 to 20 mph', 'windDirection': 'N', 'icon': 'https://api.weather.gov/icons/land/day/tsra_sct,50/tsra_sct,40?size=medium', 'shortForecast': 'Chance Showers And Thunderstorms', 'detailedForecast': 'A chance of showers and thunderstorms. Partly sunny, with a high near 60. Chance of precipitation is 50%.'}]}}\n"
     ]
    }
   ],
   "source": [
    "import pandas as pd\n",
    "import requests\n",
    "def fetch_data_from_api(api_url):\n",
    "     try:\n",
    "         response = requests.get(api_url)\n",
    "         response.raise_for_status() # Raise an exception for 4xx or 5xx status codes\n",
    "         data = response.json()\n",
    "         return data\n",
    "     except requests.exceptions.RequestException as e:\n",
    "         print(f\"Error fetching data from API: {e}\")\n",
    "         return None\n",
    "api_url = \"https://api.weather.gov/gridpoints/TOP/31,80/forecast\"\n",
    "data = fetch_data_from_api(api_url)\n",
    "if data:\n",
    "    print(data) # or do whatever you want with the data\n",
    "else:\n",
    "    print(\"Failed to fetch data from API.\")"
   ]
  },
  {
   "cell_type": "code",
   "execution_count": 12,
   "id": "f096952c-99e2-425a-b4f6-551da80bec31",
   "metadata": {},
   "outputs": [],
   "source": [
    "import pandas as pd\n",
    "import requests\n",
    "import json\n",
    "import csv"
   ]
  },
  {
   "cell_type": "code",
   "execution_count": null,
   "id": "139c0ff4-2a5e-44bc-8ead-613c79741a8d",
   "metadata": {},
   "outputs": [],
   "source": [
    "type("
   ]
  },
  {
   "cell_type": "code",
   "execution_count": 7,
   "id": "cbf9b08f-81d0-4a77-bd04-153ac514328c",
   "metadata": {},
   "outputs": [
    {
     "ename": "SyntaxError",
     "evalue": "invalid syntax (1979265323.py, line 1)",
     "output_type": "error",
     "traceback": [
      "\u001b[1;36m  Cell \u001b[1;32mIn[7], line 1\u001b[1;36m\u001b[0m\n\u001b[1;33m    curl https://api.seatgeek.com/2/events -u NDA3NTkwMDF8MTcxMjE4OTMxMi4xNDU1NjM0:d5e3958bcfd124a9282e941304fd912ecfe793668f4cb01bdf211bffb86612ec\u001b[0m\n\u001b[1;37m         ^\u001b[0m\n\u001b[1;31mSyntaxError\u001b[0m\u001b[1;31m:\u001b[0m invalid syntax\n"
     ]
    }
   ],
   "source": [
    "curl https://api.seatgeek.com/2/events -u NDA3NTkwMDF8MTcxMjE4OTMxMi4xNDU1NjM0:d5e3958bcfd124a9282e941304fd912ecfe793668f4cb01bdf211bffb86612ec"
   ]
  },
  {
   "cell_type": "code",
   "execution_count": 8,
   "id": "19785e9a-14bb-43a8-b529-f27d85875a35",
   "metadata": {},
   "outputs": [
    {
     "name": "stdout",
     "output_type": "stream",
     "text": [
      "Error fetching data from API: 403 Client Error: Forbidden for url: https://api.seatgeek.com/2/events/739515?callback=fireEvent\n",
      "Failed to fetch data from API.\n"
     ]
    }
   ],
   "source": [
    "import pandas as pd\n",
    "import requests\n",
    "def fetch_data_from_api(api_url):\n",
    "     try:\n",
    "         response = requests.get(api_url)\n",
    "         response.raise_for_status() # Raise an exception for 4xx or 5xx status codes\n",
    "         data = response.json()\n",
    "         return data\n",
    "     except requests.exceptions.RequestException as e:\n",
    "         print(f\"Error fetching data from API: {e}\")\n",
    "         return None\n",
    "api_url = \"https://api.seatgeek.com/2/events/739515?callback=fireEvent\"\n",
    "data = fetch_data_from_api(api_url)\n",
    "if data:\n",
    "    print(data) # or do whatever you want with the data\n",
    "else:\n",
    "    print(\"Failed to fetch data from API.\")"
   ]
  }
 ],
 "metadata": {
  "kernelspec": {
   "display_name": "Python 3 (ipykernel)",
   "language": "python",
   "name": "python3"
  },
  "language_info": {
   "codemirror_mode": {
    "name": "ipython",
    "version": 3
   },
   "file_extension": ".py",
   "mimetype": "text/x-python",
   "name": "python",
   "nbconvert_exporter": "python",
   "pygments_lexer": "ipython3",
   "version": "3.11.7"
  }
 },
 "nbformat": 4,
 "nbformat_minor": 5
}
