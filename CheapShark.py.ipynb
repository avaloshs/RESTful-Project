{
 "cells": [
  {
   "cell_type": "code",
   "execution_count": 6,
   "id": "d9e2a69c-69c6-4830-a339-e9a88f564d8a",
   "metadata": {},
   "outputs": [],
   "source": [
    "#CheapShark\n",
    "\n",
    "import pandas as pd\n",
    "import requests"
   ]
  },
  {
   "cell_type": "code",
   "execution_count": 7,
   "id": "7d11658a-b137-4857-999b-731715401d49",
   "metadata": {},
   "outputs": [],
   "source": [
    "BASE = \"http://127.0.0.1:5000/\"\n",
    "APP_VERSION = \"v1/\""
   ]
  },
  {
   "cell_type": "code",
   "execution_count": 23,
   "id": "5c17fbb4-a32e-41f1-a1fe-d00c5673d466",
   "metadata": {
    "scrolled": true
   },
   "outputs": [
    {
     "name": "stdout",
     "output_type": "stream",
     "text": [
      "153363 1.04\n"
     ]
    }
   ],
   "source": [
    "def fetch_data_from_api(api_url):\n",
    "    try:\n",
    "        response = requests.get(api_url)\n",
    "        response.raise_for_status() # Raise an exception for 4xx or 5xx status codes\n",
    "        data = response.json()\n",
    "        return data\n",
    "    except requests.exceptions.RequestException as e:\n",
    "        print(f\"Error fetching data from API: {e}\")\n",
    "        return None\n",
    "api_url = \"https://www.cheapshark.com/api/1.0/deals?storeID=1&upperPrice=15\"\n",
    "data = fetch_data_from_api(api_url)\n",
    "if data:\n",
    "    \n",
    "    df = pd.DataFrame(data)\n",
    "\n",
    "    # Selecting only required columns\n",
    "    df = df[['gameID', 'salePrice']]\n",
    "\n",
    "    # print(df)\n",
    "    print(f\"{df.loc[0, 'gameID']} {df.loc[0, 'salePrice']}\")\n",
    "    \n",
    "    \n",
    "else:\n",
    "    print(\"Failed to fetch data from API.\")"
   ]
  },
  {
   "cell_type": "code",
   "execution_count": null,
   "id": "d06ae825-18a1-4e97-b00c-2e52fd6f1419",
   "metadata": {},
   "outputs": [],
   "source": []
  }
 ],
 "metadata": {
  "kernelspec": {
   "display_name": "Python 3 (ipykernel)",
   "language": "python",
   "name": "python3"
  },
  "language_info": {
   "codemirror_mode": {
    "name": "ipython",
    "version": 3
   },
   "file_extension": ".py",
   "mimetype": "text/x-python",
   "name": "python",
   "nbconvert_exporter": "python",
   "pygments_lexer": "ipython3",
   "version": "3.11.7"
  }
 },
 "nbformat": 4,
 "nbformat_minor": 5
}
